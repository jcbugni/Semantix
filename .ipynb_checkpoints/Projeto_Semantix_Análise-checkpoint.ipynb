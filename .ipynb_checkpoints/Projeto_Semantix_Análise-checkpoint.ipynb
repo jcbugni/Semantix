{
 "cells": [
  {
   "cell_type": "code",
   "execution_count": 1,
   "metadata": {
    "executionInfo": {
     "elapsed": 250,
     "status": "ok",
     "timestamp": 1639083668108,
     "user": {
      "displayName": "José Carlos Bugni",
      "photoUrl": "https://lh3.googleusercontent.com/a-/AOh14GjueCoMGsfO3A_LINdjqP-bT8Ss_Ob-vnsEj8jxEQ=s64",
      "userId": "12466263512839910572"
     },
     "user_tz": 180
    },
    "id": "G5HpRApza9UR"
   },
   "outputs": [],
   "source": [
    "#Importando as bibliotecas\n",
    "import pandas as pd\n",
    "import numpy as np"
   ]
  },
  {
   "cell_type": "code",
   "execution_count": 2,
   "metadata": {
    "colab": {
     "base_uri": "https://localhost:8080/"
    },
    "executionInfo": {
     "elapsed": 1665,
     "status": "ok",
     "timestamp": 1639083670040,
     "user": {
      "displayName": "José Carlos Bugni",
      "photoUrl": "https://lh3.googleusercontent.com/a-/AOh14GjueCoMGsfO3A_LINdjqP-bT8Ss_Ob-vnsEj8jxEQ=s64",
      "userId": "12466263512839910572"
     },
     "user_tz": 180
    },
    "id": "T5rjJcAQwVdK",
    "outputId": "6f1ae9a9-18cd-42e1-ce3e-966c952dceed"
   },
   "outputs": [
    {
     "name": "stdout",
     "output_type": "stream",
     "text": [
      "Drive already mounted at /content/drive; to attempt to forcibly remount, call drive.mount(\"/content/drive\", force_remount=True).\n"
     ]
    }
   ],
   "source": [
    "from google.colab import drive\n",
    "drive.mount('/content/drive')"
   ]
  },
  {
   "cell_type": "code",
   "execution_count": 3,
   "metadata": {
    "executionInfo": {
     "elapsed": 27726,
     "status": "ok",
     "timestamp": 1639083697756,
     "user": {
      "displayName": "José Carlos Bugni",
      "photoUrl": "https://lh3.googleusercontent.com/a-/AOh14GjueCoMGsfO3A_LINdjqP-bT8Ss_Ob-vnsEj8jxEQ=s64",
      "userId": "12466263512839910572"
     },
     "user_tz": 180
    },
    "id": "Rpxs2yU0ba23"
   },
   "outputs": [],
   "source": [
    "#Criando nosso DataFrame\n",
    "df = pd.read_csv(\"/content/drive/MyDrive/Cursos/Semantix/Projeto/Dados/DADOS/DADOS_ENEM_JC.csv\", sep=',')"
   ]
  },
  {
   "cell_type": "code",
   "execution_count": 4,
   "metadata": {
    "colab": {
     "base_uri": "https://localhost:8080/",
     "height": 313
    },
    "executionInfo": {
     "elapsed": 21,
     "status": "ok",
     "timestamp": 1639083697759,
     "user": {
      "displayName": "José Carlos Bugni",
      "photoUrl": "https://lh3.googleusercontent.com/a-/AOh14GjueCoMGsfO3A_LINdjqP-bT8Ss_Ob-vnsEj8jxEQ=s64",
      "userId": "12466263512839910572"
     },
     "user_tz": 180
    },
    "id": "DPOEg0MikIXG",
    "outputId": "0bd251a0-760d-4b12-820c-0ce4687b3b18"
   },
   "outputs": [
    {
     "data": {
      "text/html": [
       "<div>\n",
       "<style scoped>\n",
       "    .dataframe tbody tr th:only-of-type {\n",
       "        vertical-align: middle;\n",
       "    }\n",
       "\n",
       "    .dataframe tbody tr th {\n",
       "        vertical-align: top;\n",
       "    }\n",
       "\n",
       "    .dataframe thead th {\n",
       "        text-align: right;\n",
       "    }\n",
       "</style>\n",
       "<table border=\"1\" class=\"dataframe\">\n",
       "  <thead>\n",
       "    <tr style=\"text-align: right;\">\n",
       "      <th></th>\n",
       "      <th>NU_INSCRICAO</th>\n",
       "      <th>NO_MUNICIPIO_RESIDENCIA</th>\n",
       "      <th>SG_UF_RESIDENCIA</th>\n",
       "      <th>NU_IDADE</th>\n",
       "      <th>TP_SEXO</th>\n",
       "      <th>TP_ESTADO_CIVIL</th>\n",
       "      <th>TP_COR_RACA</th>\n",
       "      <th>TP_NACIONALIDADE</th>\n",
       "      <th>TP_ST_CONCLUSAO</th>\n",
       "      <th>TP_ANO_CONCLUIU</th>\n",
       "      <th>TP_ESCOLA</th>\n",
       "      <th>TP_ENSINO</th>\n",
       "      <th>IN_TREINEIRO</th>\n",
       "      <th>SG_UF_ESC</th>\n",
       "      <th>TP_LOCALIZACAO_ESC</th>\n",
       "      <th>TP_PRESENCA_CN</th>\n",
       "      <th>TP_PRESENCA_CH</th>\n",
       "      <th>TP_PRESENCA_LC</th>\n",
       "      <th>TP_PRESENCA_MT</th>\n",
       "      <th>NU_NOTA_CN</th>\n",
       "      <th>NU_NOTA_CH</th>\n",
       "      <th>NU_NOTA_LC</th>\n",
       "      <th>NU_NOTA_MT</th>\n",
       "      <th>TP_LINGUA</th>\n",
       "      <th>TP_STATUS_REDACAO</th>\n",
       "      <th>NU_NOTA_COMP1</th>\n",
       "      <th>NU_NOTA_COMP2</th>\n",
       "      <th>NU_NOTA_COMP3</th>\n",
       "      <th>NU_NOTA_COMP4</th>\n",
       "      <th>NU_NOTA_COMP5</th>\n",
       "      <th>NU_NOTA_REDACAO</th>\n",
       "      <th>RENDA_FAMILIAR</th>\n",
       "      <th>CASA_TEM_WC</th>\n",
       "      <th>CASA_TEM_QUARTO</th>\n",
       "      <th>CASA_TEM_GELADEIRA</th>\n",
       "      <th>CASA_TEM_TELEVISAO</th>\n",
       "      <th>CASA_TEM_CELULAR</th>\n",
       "      <th>CASA_TEM_INTERNET</th>\n",
       "      <th>DEFICIENCIA</th>\n",
       "      <th>ATEND_ESPECIFICO</th>\n",
       "      <th>RECURSO_ESPECIFICO</th>\n",
       "    </tr>\n",
       "  </thead>\n",
       "  <tbody>\n",
       "    <tr>\n",
       "      <th>0</th>\n",
       "      <td>190001595656</td>\n",
       "      <td>Sorocaba</td>\n",
       "      <td>SP</td>\n",
       "      <td>36.0</td>\n",
       "      <td>M</td>\n",
       "      <td>Solteiro</td>\n",
       "      <td>3</td>\n",
       "      <td>Brasileiro(a)</td>\n",
       "      <td>1</td>\n",
       "      <td>11</td>\n",
       "      <td>Não Informado</td>\n",
       "      <td>NaN</td>\n",
       "      <td>0</td>\n",
       "      <td>NaN</td>\n",
       "      <td>NaN</td>\n",
       "      <td>0</td>\n",
       "      <td>0</td>\n",
       "      <td>0</td>\n",
       "      <td>0</td>\n",
       "      <td>NaN</td>\n",
       "      <td>NaN</td>\n",
       "      <td>NaN</td>\n",
       "      <td>NaN</td>\n",
       "      <td>0</td>\n",
       "      <td>NaN</td>\n",
       "      <td>NaN</td>\n",
       "      <td>NaN</td>\n",
       "      <td>NaN</td>\n",
       "      <td>NaN</td>\n",
       "      <td>NaN</td>\n",
       "      <td>NaN</td>\n",
       "      <td>A</td>\n",
       "      <td>B</td>\n",
       "      <td>C</td>\n",
       "      <td>B</td>\n",
       "      <td>A</td>\n",
       "      <td>C</td>\n",
       "      <td>B</td>\n",
       "      <td>Não</td>\n",
       "      <td>Não</td>\n",
       "      <td>Não</td>\n",
       "    </tr>\n",
       "    <tr>\n",
       "      <th>1</th>\n",
       "      <td>190001421546</td>\n",
       "      <td>Feira de Santana</td>\n",
       "      <td>BA</td>\n",
       "      <td>23.0</td>\n",
       "      <td>M</td>\n",
       "      <td>Solteiro</td>\n",
       "      <td>1</td>\n",
       "      <td>Brasileiro(a)</td>\n",
       "      <td>1</td>\n",
       "      <td>5</td>\n",
       "      <td>Não Informado</td>\n",
       "      <td>1.0</td>\n",
       "      <td>0</td>\n",
       "      <td>NaN</td>\n",
       "      <td>NaN</td>\n",
       "      <td>0</td>\n",
       "      <td>0</td>\n",
       "      <td>0</td>\n",
       "      <td>0</td>\n",
       "      <td>NaN</td>\n",
       "      <td>NaN</td>\n",
       "      <td>NaN</td>\n",
       "      <td>NaN</td>\n",
       "      <td>0</td>\n",
       "      <td>NaN</td>\n",
       "      <td>NaN</td>\n",
       "      <td>NaN</td>\n",
       "      <td>NaN</td>\n",
       "      <td>NaN</td>\n",
       "      <td>NaN</td>\n",
       "      <td>NaN</td>\n",
       "      <td>C</td>\n",
       "      <td>B</td>\n",
       "      <td>C</td>\n",
       "      <td>B</td>\n",
       "      <td>B</td>\n",
       "      <td>E</td>\n",
       "      <td>B</td>\n",
       "      <td>Não</td>\n",
       "      <td>Não</td>\n",
       "      <td>Não</td>\n",
       "    </tr>\n",
       "    <tr>\n",
       "      <th>2</th>\n",
       "      <td>190001133210</td>\n",
       "      <td>Fortaleza</td>\n",
       "      <td>CE</td>\n",
       "      <td>39.0</td>\n",
       "      <td>F</td>\n",
       "      <td>Solteiro</td>\n",
       "      <td>3</td>\n",
       "      <td>Brasileiro(a)</td>\n",
       "      <td>1</td>\n",
       "      <td>13</td>\n",
       "      <td>Não Informado</td>\n",
       "      <td>1.0</td>\n",
       "      <td>0</td>\n",
       "      <td>NaN</td>\n",
       "      <td>NaN</td>\n",
       "      <td>0</td>\n",
       "      <td>0</td>\n",
       "      <td>0</td>\n",
       "      <td>0</td>\n",
       "      <td>NaN</td>\n",
       "      <td>NaN</td>\n",
       "      <td>NaN</td>\n",
       "      <td>NaN</td>\n",
       "      <td>1</td>\n",
       "      <td>NaN</td>\n",
       "      <td>NaN</td>\n",
       "      <td>NaN</td>\n",
       "      <td>NaN</td>\n",
       "      <td>NaN</td>\n",
       "      <td>NaN</td>\n",
       "      <td>NaN</td>\n",
       "      <td>B</td>\n",
       "      <td>B</td>\n",
       "      <td>B</td>\n",
       "      <td>B</td>\n",
       "      <td>B</td>\n",
       "      <td>C</td>\n",
       "      <td>B</td>\n",
       "      <td>Não</td>\n",
       "      <td>Não</td>\n",
       "      <td>Não</td>\n",
       "    </tr>\n",
       "    <tr>\n",
       "      <th>3</th>\n",
       "      <td>190001199383</td>\n",
       "      <td>Palmas</td>\n",
       "      <td>TO</td>\n",
       "      <td>25.0</td>\n",
       "      <td>F</td>\n",
       "      <td>Solteiro</td>\n",
       "      <td>1</td>\n",
       "      <td>Brasileiro(a)</td>\n",
       "      <td>1</td>\n",
       "      <td>4</td>\n",
       "      <td>Não Informado</td>\n",
       "      <td>NaN</td>\n",
       "      <td>0</td>\n",
       "      <td>NaN</td>\n",
       "      <td>NaN</td>\n",
       "      <td>1</td>\n",
       "      <td>1</td>\n",
       "      <td>1</td>\n",
       "      <td>1</td>\n",
       "      <td>483.8</td>\n",
       "      <td>503.6</td>\n",
       "      <td>537.3</td>\n",
       "      <td>392.0</td>\n",
       "      <td>1</td>\n",
       "      <td>1.0</td>\n",
       "      <td>120.0</td>\n",
       "      <td>120.0</td>\n",
       "      <td>120.0</td>\n",
       "      <td>100.0</td>\n",
       "      <td>0.0</td>\n",
       "      <td>460.0</td>\n",
       "      <td>E</td>\n",
       "      <td>C</td>\n",
       "      <td>C</td>\n",
       "      <td>B</td>\n",
       "      <td>C</td>\n",
       "      <td>D</td>\n",
       "      <td>B</td>\n",
       "      <td>Não</td>\n",
       "      <td>Não</td>\n",
       "      <td>Não</td>\n",
       "    </tr>\n",
       "    <tr>\n",
       "      <th>4</th>\n",
       "      <td>190001237802</td>\n",
       "      <td>Contagem</td>\n",
       "      <td>MG</td>\n",
       "      <td>22.0</td>\n",
       "      <td>F</td>\n",
       "      <td>Solteiro</td>\n",
       "      <td>1</td>\n",
       "      <td>Brasileiro(a)</td>\n",
       "      <td>1</td>\n",
       "      <td>4</td>\n",
       "      <td>Não Informado</td>\n",
       "      <td>1.0</td>\n",
       "      <td>0</td>\n",
       "      <td>NaN</td>\n",
       "      <td>NaN</td>\n",
       "      <td>1</td>\n",
       "      <td>1</td>\n",
       "      <td>1</td>\n",
       "      <td>1</td>\n",
       "      <td>513.6</td>\n",
       "      <td>575.5</td>\n",
       "      <td>570.7</td>\n",
       "      <td>677.0</td>\n",
       "      <td>0</td>\n",
       "      <td>1.0</td>\n",
       "      <td>160.0</td>\n",
       "      <td>120.0</td>\n",
       "      <td>180.0</td>\n",
       "      <td>200.0</td>\n",
       "      <td>200.0</td>\n",
       "      <td>860.0</td>\n",
       "      <td>G</td>\n",
       "      <td>C</td>\n",
       "      <td>D</td>\n",
       "      <td>B</td>\n",
       "      <td>B</td>\n",
       "      <td>C</td>\n",
       "      <td>B</td>\n",
       "      <td>Não</td>\n",
       "      <td>Não</td>\n",
       "      <td>Não</td>\n",
       "    </tr>\n",
       "  </tbody>\n",
       "</table>\n",
       "</div>"
      ],
      "text/plain": [
       "   NU_INSCRICAO NO_MUNICIPIO_RESIDENCIA  ... ATEND_ESPECIFICO  RECURSO_ESPECIFICO\n",
       "0  190001595656                Sorocaba  ...              Não                 Não\n",
       "1  190001421546        Feira de Santana  ...              Não                 Não\n",
       "2  190001133210               Fortaleza  ...              Não                 Não\n",
       "3  190001199383                  Palmas  ...              Não                 Não\n",
       "4  190001237802                Contagem  ...              Não                 Não\n",
       "\n",
       "[5 rows x 41 columns]"
      ]
     },
     "execution_count": 4,
     "metadata": {},
     "output_type": "execute_result"
    }
   ],
   "source": [
    "#Visualizando as 5 primeiras linhas\n",
    "df.head()"
   ]
  },
  {
   "cell_type": "code",
   "execution_count": 5,
   "metadata": {
    "colab": {
     "base_uri": "https://localhost:8080/"
    },
    "executionInfo": {
     "elapsed": 4053,
     "status": "ok",
     "timestamp": 1639083701802,
     "user": {
      "displayName": "José Carlos Bugni",
      "photoUrl": "https://lh3.googleusercontent.com/a-/AOh14GjueCoMGsfO3A_LINdjqP-bT8Ss_Ob-vnsEj8jxEQ=s64",
      "userId": "12466263512839910572"
     },
     "user_tz": 180
    },
    "id": "wnKCmH-t7bKF",
    "outputId": "bbf4b672-b5ac-4e4c-936a-7b7e95d5f4eb"
   },
   "outputs": [
    {
     "data": {
      "text/plain": [
       "NU_INSCRICAO                     0\n",
       "NO_MUNICIPIO_RESIDENCIA          0\n",
       "SG_UF_RESIDENCIA                 0\n",
       "NU_IDADE                        69\n",
       "TP_SEXO                          0\n",
       "TP_ESTADO_CIVIL                  0\n",
       "TP_COR_RACA                      0\n",
       "TP_NACIONALIDADE                 0\n",
       "TP_ST_CONCLUSAO                  0\n",
       "TP_ANO_CONCLUIU                  0\n",
       "TP_ESCOLA                        0\n",
       "TP_ENSINO                  2217073\n",
       "IN_TREINEIRO                     0\n",
       "SG_UF_ESC                  3947858\n",
       "TP_LOCALIZACAO_ESC         3947858\n",
       "TP_PRESENCA_CN                   0\n",
       "TP_PRESENCA_CH                   0\n",
       "TP_PRESENCA_LC                   0\n",
       "TP_PRESENCA_MT                   0\n",
       "NU_NOTA_CN                 1384837\n",
       "NU_NOTA_CH                 1172125\n",
       "NU_NOTA_LC                 1172125\n",
       "NU_NOTA_MT                 1384837\n",
       "TP_LINGUA                        0\n",
       "TP_STATUS_REDACAO          1172126\n",
       "NU_NOTA_COMP1              1172126\n",
       "NU_NOTA_COMP2              1172126\n",
       "NU_NOTA_COMP3              1172126\n",
       "NU_NOTA_COMP4              1172126\n",
       "NU_NOTA_COMP5              1172126\n",
       "NU_NOTA_REDACAO            1172126\n",
       "RENDA_FAMILIAR                   0\n",
       "CASA_TEM_WC                      0\n",
       "CASA_TEM_QUARTO                  0\n",
       "CASA_TEM_GELADEIRA               0\n",
       "CASA_TEM_TELEVISAO               0\n",
       "CASA_TEM_CELULAR                 0\n",
       "CASA_TEM_INTERNET                0\n",
       "DEFICIENCIA                      0\n",
       "ATEND_ESPECIFICO                 0\n",
       "RECURSO_ESPECIFICO               0\n",
       "dtype: int64"
      ]
     },
     "execution_count": 5,
     "metadata": {},
     "output_type": "execute_result"
    }
   ],
   "source": [
    "#checando valores nulos\n",
    "df.isnull().sum()"
   ]
  },
  {
   "cell_type": "code",
   "execution_count": 6,
   "metadata": {
    "colab": {
     "base_uri": "https://localhost:8080/"
    },
    "executionInfo": {
     "elapsed": 14,
     "status": "ok",
     "timestamp": 1639083701803,
     "user": {
      "displayName": "José Carlos Bugni",
      "photoUrl": "https://lh3.googleusercontent.com/a-/AOh14GjueCoMGsfO3A_LINdjqP-bT8Ss_Ob-vnsEj8jxEQ=s64",
      "userId": "12466263512839910572"
     },
     "user_tz": 180
    },
    "id": "UCJpu--kK9wo",
    "outputId": "402301ce-72c0-4ed4-edbc-93d0f6441387"
   },
   "outputs": [
    {
     "data": {
      "text/plain": [
       "5095270"
      ]
     },
     "execution_count": 6,
     "metadata": {},
     "output_type": "execute_result"
    }
   ],
   "source": [
    "#Quantidade de inscritos\n",
    "df['NU_INSCRICAO'].count()"
   ]
  },
  {
   "cell_type": "code",
   "execution_count": 7,
   "metadata": {
    "colab": {
     "base_uri": "https://localhost:8080/"
    },
    "executionInfo": {
     "elapsed": 1898,
     "status": "ok",
     "timestamp": 1639083703689,
     "user": {
      "displayName": "José Carlos Bugni",
      "photoUrl": "https://lh3.googleusercontent.com/a-/AOh14GjueCoMGsfO3A_LINdjqP-bT8Ss_Ob-vnsEj8jxEQ=s64",
      "userId": "12466263512839910572"
     },
     "user_tz": 180
    },
    "id": "P9S1i8o1lUu-",
    "outputId": "5298c106-075e-4c7e-d9ac-62ea7e45f91e"
   },
   "outputs": [
    {
     "name": "stdout",
     "output_type": "stream",
     "text": [
      "AUSENTES NA PROVA CIENCIAS DA NATUREZA: 1382925\n",
      "AUSENTES NA PROVA DE CIENCIAS HUMANAS: 1168053\n",
      "AUSENTES NA PROVA DE LINGUAGENS E CODIGOS: 1168053\n",
      "AUSENTES NA PROVA MATEMATICA: 1382925\n"
     ]
    }
   ],
   "source": [
    "#Quantidade de ausentes\n",
    "\n",
    "#PROVA CIENCIAS DA NATUREZA\n",
    "print(\"AUSENTES NA PROVA CIENCIAS DA NATUREZA:\", df[df['TP_PRESENCA_CN']==0].NU_INSCRICAO.count())\n",
    "#PROVA DE CIENCIAS HUMANAS\n",
    "print(\"AUSENTES NA PROVA DE CIENCIAS HUMANAS:\", df[df['TP_PRESENCA_CH']==0].NU_INSCRICAO.count())\n",
    "#PROVA DE LINGUAGENS E CODIGOS\n",
    "print(\"AUSENTES NA PROVA DE LINGUAGENS E CODIGOS:\", df[df['TP_PRESENCA_LC']==0].NU_INSCRICAO.count())\n",
    "#PROVA MATEMATICA\n",
    "print(\"AUSENTES NA PROVA MATEMATICA:\", df[df['TP_PRESENCA_MT']==0].NU_INSCRICAO.count())"
   ]
  },
  {
   "cell_type": "code",
   "execution_count": 8,
   "metadata": {
    "colab": {
     "base_uri": "https://localhost:8080/"
    },
    "executionInfo": {
     "elapsed": 404,
     "status": "ok",
     "timestamp": 1639083704088,
     "user": {
      "displayName": "José Carlos Bugni",
      "photoUrl": "https://lh3.googleusercontent.com/a-/AOh14GjueCoMGsfO3A_LINdjqP-bT8Ss_Ob-vnsEj8jxEQ=s64",
      "userId": "12466263512839910572"
     },
     "user_tz": 180
    },
    "id": "g7-2D-KfpuVq",
    "outputId": "164128c3-6af8-4547-c468-3da7bfd7bd4f"
   },
   "outputs": [
    {
     "data": {
      "text/plain": [
       "TP_ESCOLA\n",
       "Não Informado    3629376\n",
       "Pública          1247262\n",
       "Privada           218632\n",
       "dtype: int64"
      ]
     },
     "execution_count": 8,
     "metadata": {},
     "output_type": "execute_result"
    }
   ],
   "source": [
    "#Estudantes de escola publica x privada\n",
    "df.value_counts(df['TP_ESCOLA'])"
   ]
  },
  {
   "cell_type": "code",
   "execution_count": 9,
   "metadata": {
    "colab": {
     "base_uri": "https://localhost:8080/"
    },
    "executionInfo": {
     "elapsed": 417,
     "status": "ok",
     "timestamp": 1639083704503,
     "user": {
      "displayName": "José Carlos Bugni",
      "photoUrl": "https://lh3.googleusercontent.com/a-/AOh14GjueCoMGsfO3A_LINdjqP-bT8Ss_Ob-vnsEj8jxEQ=s64",
      "userId": "12466263512839910572"
     },
     "user_tz": 180
    },
    "id": "BWBUtqJx3Kuo",
    "outputId": "d2e5a1b8-1462-40cb-ca75-def98396d6fe"
   },
   "outputs": [
    {
     "data": {
      "text/plain": [
       "TP_NACIONALIDADE\n",
       "Brasileiro(a)                                 4950021\n",
       "Brasileiro(a) Naturalizado                     124332\n",
       "Brasileiro(a) Nato, nascido(a) no exterior       8233\n",
       "Não Informado                                    6749\n",
       "Estrangeiro(a)                                   5935\n",
       "dtype: int64"
      ]
     },
     "execution_count": 9,
     "metadata": {},
     "output_type": "execute_result"
    }
   ],
   "source": [
    "#Nacionalidade dos estudandes\n",
    "df.value_counts(df['TP_NACIONALIDADE'])"
   ]
  },
  {
   "cell_type": "code",
   "execution_count": 10,
   "metadata": {
    "colab": {
     "base_uri": "https://localhost:8080/"
    },
    "executionInfo": {
     "elapsed": 252,
     "status": "ok",
     "timestamp": 1639083704753,
     "user": {
      "displayName": "José Carlos Bugni",
      "photoUrl": "https://lh3.googleusercontent.com/a-/AOh14GjueCoMGsfO3A_LINdjqP-bT8Ss_Ob-vnsEj8jxEQ=s64",
      "userId": "12466263512839910572"
     },
     "user_tz": 180
    },
    "id": "Zhga9hSB4n1D",
    "outputId": "533b600c-3547-4f17-a270-6bcdab68fb26"
   },
   "outputs": [
    {
     "data": {
      "text/plain": [
       "49411"
      ]
     },
     "execution_count": 10,
     "metadata": {},
     "output_type": "execute_result"
    }
   ],
   "source": [
    "#Candidatos que não possui wc em casa?\n",
    "df[df['CASA_TEM_WC']=='A'].NU_INSCRICAO.count()"
   ]
  },
  {
   "cell_type": "code",
   "execution_count": 11,
   "metadata": {
    "colab": {
     "base_uri": "https://localhost:8080/"
    },
    "executionInfo": {
     "elapsed": 740,
     "status": "ok",
     "timestamp": 1639083705491,
     "user": {
      "displayName": "José Carlos Bugni",
      "photoUrl": "https://lh3.googleusercontent.com/a-/AOh14GjueCoMGsfO3A_LINdjqP-bT8Ss_Ob-vnsEj8jxEQ=s64",
      "userId": "12466263512839910572"
     },
     "user_tz": 180
    },
    "id": "E8SN-5WI5VOy",
    "outputId": "a7497ed4-e1d2-4e08-b478-02d44b066405"
   },
   "outputs": [
    {
     "data": {
      "text/plain": [
       "232075"
      ]
     },
     "execution_count": 11,
     "metadata": {},
     "output_type": "execute_result"
    }
   ],
   "source": [
    "#Familias sem nenhuma renda\n",
    "df[df['RENDA_FAMILIAR']=='A'].NU_INSCRICAO.count()"
   ]
  },
  {
   "cell_type": "code",
   "execution_count": 12,
   "metadata": {
    "colab": {
     "base_uri": "https://localhost:8080/"
    },
    "executionInfo": {
     "elapsed": 418,
     "status": "ok",
     "timestamp": 1639083706257,
     "user": {
      "displayName": "José Carlos Bugni",
      "photoUrl": "https://lh3.googleusercontent.com/a-/AOh14GjueCoMGsfO3A_LINdjqP-bT8Ss_Ob-vnsEj8jxEQ=s64",
      "userId": "12466263512839910572"
     },
     "user_tz": 180
    },
    "id": "JXz6JRaJ57yh",
    "outputId": "2533319c-ceb4-442f-fe5a-cfc3d909cb36"
   },
   "outputs": [
    {
     "data": {
      "text/plain": [
       "132328"
      ]
     },
     "execution_count": 12,
     "metadata": {},
     "output_type": "execute_result"
    }
   ],
   "source": [
    "#Familias sem celular e acesso a internet\n",
    "FILTRO = (df['RENDA_FAMILIAR']=='A') & (df['CASA_TEM_INTERNET']=='A')\n",
    "df[FILTRO].NU_INSCRICAO.count()"
   ]
  },
  {
   "cell_type": "code",
   "execution_count": 13,
   "metadata": {
    "colab": {
     "base_uri": "https://localhost:8080/"
    },
    "executionInfo": {
     "elapsed": 1248,
     "status": "ok",
     "timestamp": 1639083707500,
     "user": {
      "displayName": "José Carlos Bugni",
      "photoUrl": "https://lh3.googleusercontent.com/a-/AOh14GjueCoMGsfO3A_LINdjqP-bT8Ss_Ob-vnsEj8jxEQ=s64",
      "userId": "12466263512839910572"
     },
     "user_tz": 180
    },
    "id": "QotwbWa16Vdn",
    "outputId": "3ba92781-f7fe-4a0b-e87d-eead0d58454f"
   },
   "outputs": [
    {
     "name": "stdout",
     "output_type": "stream",
     "text": [
      "REDACAO:\n",
      " count    3.923144e+06\n",
      "mean     5.711883e+02\n",
      "std      1.887633e+02\n",
      "min      0.000000e+00\n",
      "25%      4.800000e+02\n",
      "50%      5.800000e+02\n",
      "75%      6.800000e+02\n",
      "max      1.000000e+03\n",
      "Name: NU_NOTA_REDACAO, dtype: float64\n",
      "CIENCIAS DA NATUREZA:\n",
      " count    3.710433e+06\n",
      "mean     4.778241e+02\n",
      "std      7.609774e+01\n",
      "min      0.000000e+00\n",
      "25%      4.178000e+02\n",
      "50%      4.703000e+02\n",
      "75%      5.332000e+02\n",
      "max      8.609000e+02\n",
      "Name: NU_NOTA_CN, dtype: float64\n",
      "CIENCIAS DA HUMANAS:\n",
      " count    3.923145e+06\n",
      "mean     5.072487e+02\n",
      "std      8.241163e+01\n",
      "min      0.000000e+00\n",
      "25%      4.479000e+02\n",
      "50%      5.106000e+02\n",
      "75%      5.666000e+02\n",
      "max      8.351000e+02\n",
      "Name: NU_NOTA_CH, dtype: float64\n",
      "LINGUAGENS E CÓDIGOS:\n",
      " count    3.923145e+06\n",
      "mean     5.205177e+02\n",
      "std      6.415065e+01\n",
      "min      0.000000e+00\n",
      "25%      4.835000e+02\n",
      "50%      5.262000e+02\n",
      "75%      5.653000e+02\n",
      "max      8.017000e+02\n",
      "Name: NU_NOTA_LC, dtype: float64\n",
      "MATEMÁTICA:\n",
      " count    3.710433e+06\n",
      "mean     5.231241e+02\n",
      "std      1.090637e+02\n",
      "min      0.000000e+00\n",
      "25%      4.351000e+02\n",
      "50%      5.011000e+02\n",
      "75%      5.978000e+02\n",
      "max      9.855000e+02\n",
      "Name: NU_NOTA_MT, dtype: float64\n"
     ]
    }
   ],
   "source": [
    "#Analise de Notas\n",
    "print(\"REDACAO:\\n\", df['NU_NOTA_REDACAO'].describe())\n",
    "\n",
    "print(\"CIENCIAS DA NATUREZA:\\n\", df['NU_NOTA_CN'].describe())\n",
    "\n",
    "print(\"CIENCIAS DA HUMANAS:\\n\", df['NU_NOTA_CH'].describe())\n",
    "\n",
    "print(\"LINGUAGENS E CÓDIGOS:\\n\", df['NU_NOTA_LC'].describe())\n",
    "\n",
    "print(\"MATEMÁTICA:\\n\", df['NU_NOTA_MT'].describe())"
   ]
  }
 ],
 "metadata": {
  "colab": {
   "collapsed_sections": [],
   "name": "Projeto_Semantix_Análise.ipynb",
   "provenance": [
    {
     "file_id": "16I19Mm1QEAlEgJMA4dqjFrldMrFvUjOl",
     "timestamp": 1639079521083
    },
    {
     "file_id": "1TBSgsfmPfdjTRP1lStH3OMZWI8fZyHtO",
     "timestamp": 1637935978892
    }
   ]
  },
  "kernelspec": {
   "display_name": "Python 3 (ipykernel)",
   "language": "python",
   "name": "python3"
  },
  "language_info": {
   "codemirror_mode": {
    "name": "ipython",
    "version": 3
   },
   "file_extension": ".py",
   "mimetype": "text/x-python",
   "name": "python",
   "nbconvert_exporter": "python",
   "pygments_lexer": "ipython3",
   "version": "3.8.12"
  }
 },
 "nbformat": 4,
 "nbformat_minor": 1
}
